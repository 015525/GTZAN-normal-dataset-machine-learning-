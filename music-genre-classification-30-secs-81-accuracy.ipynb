{
 "cells": [
  {
   "cell_type": "markdown",
   "id": "d76046c8",
   "metadata": {
    "papermill": {
     "duration": 0.023002,
     "end_time": "2022-01-16T10:37:29.251779",
     "exception": false,
     "start_time": "2022-01-16T10:37:29.228777",
     "status": "completed"
    },
    "tags": []
   },
   "source": [
    "This notebook uses xgboost to do a multilabel classification of music genre. This workbook uses GTZAN dataset for model training. The dataset consists of the original wav files of the songs,the image data of the songs, and the features data of the songs extracted in csv. In this notebook, we'll use the extracted features to build the model"
   ]
  },
  {
   "cell_type": "markdown",
   "id": "ccd76164",
   "metadata": {
    "papermill": {
     "duration": 0.020986,
     "end_time": "2022-01-16T10:37:29.294329",
     "exception": false,
     "start_time": "2022-01-16T10:37:29.273343",
     "status": "completed"
    },
    "tags": []
   },
   "source": [
    "# Import Libraries and Load Dataset"
   ]
  },
  {
   "cell_type": "code",
   "execution_count": 1,
   "id": "8bb3a7aa",
   "metadata": {
    "_cell_guid": "b1076dfc-b9ad-4769-8c92-a6c4dae69d19",
    "_uuid": "8f2839f25d086af736a60e9eeb907d3b93b6e0e5",
    "execution": {
     "iopub.execute_input": "2022-01-16T10:37:29.343398Z",
     "iopub.status.busy": "2022-01-16T10:37:29.341679Z",
     "iopub.status.idle": "2022-01-16T10:37:52.986730Z",
     "shell.execute_reply": "2022-01-16T10:37:52.986050Z",
     "shell.execute_reply.started": "2022-01-16T09:03:58.279919Z"
    },
    "papermill": {
     "duration": 23.670723,
     "end_time": "2022-01-16T10:37:52.986934",
     "exception": false,
     "start_time": "2022-01-16T10:37:29.316211",
     "status": "completed"
    },
    "tags": []
   },
   "outputs": [
    {
     "name": "stdout",
     "output_type": "stream",
     "text": [
      "Requirement already satisfied: xgboost in /opt/conda/lib/python3.7/site-packages (1.5.1)\r\n",
      "Requirement already satisfied: scipy in /opt/conda/lib/python3.7/site-packages (from xgboost) (1.7.3)\r\n",
      "Requirement already satisfied: numpy in /opt/conda/lib/python3.7/site-packages (from xgboost) (1.19.5)\r\n",
      "\u001b[33mWARNING: Running pip as the 'root' user can result in broken permissions and conflicting behaviour with the system package manager. It is recommended to use a virtual environment instead: https://pip.pypa.io/warnings/venv\u001b[0m\r\n",
      "Requirement already satisfied: librosa in /opt/conda/lib/python3.7/site-packages (0.8.1)\r\n",
      "Requirement already satisfied: numba>=0.43.0 in /opt/conda/lib/python3.7/site-packages (from librosa) (0.54.1)\r\n",
      "Requirement already satisfied: audioread>=2.0.0 in /opt/conda/lib/python3.7/site-packages (from librosa) (2.1.9)\r\n",
      "Requirement already satisfied: pooch>=1.0 in /opt/conda/lib/python3.7/site-packages (from librosa) (1.5.2)\r\n",
      "Requirement already satisfied: numpy>=1.15.0 in /opt/conda/lib/python3.7/site-packages (from librosa) (1.19.5)\r\n",
      "Requirement already satisfied: decorator>=3.0.0 in /opt/conda/lib/python3.7/site-packages (from librosa) (5.1.0)\r\n",
      "Requirement already satisfied: soundfile>=0.10.2 in /opt/conda/lib/python3.7/site-packages (from librosa) (0.10.3.post1)\r\n",
      "Requirement already satisfied: joblib>=0.14 in /opt/conda/lib/python3.7/site-packages (from librosa) (1.1.0)\r\n",
      "Requirement already satisfied: scipy>=1.0.0 in /opt/conda/lib/python3.7/site-packages (from librosa) (1.7.3)\r\n",
      "Requirement already satisfied: resampy>=0.2.2 in /opt/conda/lib/python3.7/site-packages (from librosa) (0.2.2)\r\n",
      "Requirement already satisfied: packaging>=20.0 in /opt/conda/lib/python3.7/site-packages (from librosa) (21.3)\r\n",
      "Requirement already satisfied: scikit-learn!=0.19.0,>=0.14.0 in /opt/conda/lib/python3.7/site-packages (from librosa) (0.23.2)\r\n",
      "Requirement already satisfied: setuptools in /opt/conda/lib/python3.7/site-packages (from numba>=0.43.0->librosa) (59.4.0)\r\n",
      "Requirement already satisfied: llvmlite<0.38,>=0.37.0rc1 in /opt/conda/lib/python3.7/site-packages (from numba>=0.43.0->librosa) (0.37.0)\r\n",
      "Requirement already satisfied: pyparsing!=3.0.5,>=2.0.2 in /opt/conda/lib/python3.7/site-packages (from packaging>=20.0->librosa) (3.0.6)\r\n",
      "Requirement already satisfied: requests in /opt/conda/lib/python3.7/site-packages (from pooch>=1.0->librosa) (2.26.0)\r\n",
      "Requirement already satisfied: appdirs in /opt/conda/lib/python3.7/site-packages (from pooch>=1.0->librosa) (1.4.4)\r\n",
      "Requirement already satisfied: six>=1.3 in /opt/conda/lib/python3.7/site-packages (from resampy>=0.2.2->librosa) (1.16.0)\r\n",
      "Requirement already satisfied: threadpoolctl>=2.0.0 in /opt/conda/lib/python3.7/site-packages (from scikit-learn!=0.19.0,>=0.14.0->librosa) (3.0.0)\r\n",
      "Requirement already satisfied: cffi>=1.0 in /opt/conda/lib/python3.7/site-packages (from soundfile>=0.10.2->librosa) (1.15.0)\r\n",
      "Requirement already satisfied: pycparser in /opt/conda/lib/python3.7/site-packages (from cffi>=1.0->soundfile>=0.10.2->librosa) (2.21)\r\n",
      "Requirement already satisfied: urllib3<1.27,>=1.21.1 in /opt/conda/lib/python3.7/site-packages (from requests->pooch>=1.0->librosa) (1.26.7)\r\n",
      "Requirement already satisfied: charset-normalizer~=2.0.0 in /opt/conda/lib/python3.7/site-packages (from requests->pooch>=1.0->librosa) (2.0.8)\r\n",
      "Requirement already satisfied: idna<4,>=2.5 in /opt/conda/lib/python3.7/site-packages (from requests->pooch>=1.0->librosa) (3.1)\r\n",
      "Requirement already satisfied: certifi>=2017.4.17 in /opt/conda/lib/python3.7/site-packages (from requests->pooch>=1.0->librosa) (2021.10.8)\r\n",
      "\u001b[33mWARNING: Running pip as the 'root' user can result in broken permissions and conflicting behaviour with the system package manager. It is recommended to use a virtual environment instead: https://pip.pypa.io/warnings/venv\u001b[0m\r\n",
      "Requirement already satisfied: hyperopt in /opt/conda/lib/python3.7/site-packages (0.2.7)\r\n",
      "Requirement already satisfied: tqdm in /opt/conda/lib/python3.7/site-packages (from hyperopt) (4.62.3)\r\n",
      "Requirement already satisfied: py4j in /opt/conda/lib/python3.7/site-packages (from hyperopt) (0.10.9.3)\r\n",
      "Requirement already satisfied: numpy in /opt/conda/lib/python3.7/site-packages (from hyperopt) (1.19.5)\r\n",
      "Requirement already satisfied: future in /opt/conda/lib/python3.7/site-packages (from hyperopt) (0.18.2)\r\n",
      "Requirement already satisfied: networkx>=2.2 in /opt/conda/lib/python3.7/site-packages (from hyperopt) (2.6.3)\r\n",
      "Requirement already satisfied: cloudpickle in /opt/conda/lib/python3.7/site-packages (from hyperopt) (2.0.0)\r\n",
      "Requirement already satisfied: scipy in /opt/conda/lib/python3.7/site-packages (from hyperopt) (1.7.3)\r\n",
      "Requirement already satisfied: six in /opt/conda/lib/python3.7/site-packages (from hyperopt) (1.16.0)\r\n",
      "\u001b[33mWARNING: Running pip as the 'root' user can result in broken permissions and conflicting behaviour with the system package manager. It is recommended to use a virtual environment instead: https://pip.pypa.io/warnings/venv\u001b[0m\r\n"
     ]
    }
   ],
   "source": [
    "# Install and update essential libraries and tools\n",
    "!pip install xgboost -U\n",
    "!pip install librosa -U\n",
    "# !apt-get --yes install ffmpeg\n",
    "!pip install hyperopt"
   ]
  },
  {
   "cell_type": "code",
   "execution_count": 2,
   "id": "f8f67e9a",
   "metadata": {
    "execution": {
     "iopub.execute_input": "2022-01-16T10:37:53.041898Z",
     "iopub.status.busy": "2022-01-16T10:37:53.040969Z",
     "iopub.status.idle": "2022-01-16T10:37:56.102812Z",
     "shell.execute_reply": "2022-01-16T10:37:56.101770Z",
     "shell.execute_reply.started": "2022-01-16T09:04:26.593678Z"
    },
    "papermill": {
     "duration": 3.089784,
     "end_time": "2022-01-16T10:37:56.103006",
     "exception": false,
     "start_time": "2022-01-16T10:37:53.013222",
     "status": "completed"
    },
    "tags": []
   },
   "outputs": [],
   "source": [
    "import warnings\n",
    "warnings.simplefilter(\"ignore\", UserWarning)\n",
    "\n",
    "import os\n",
    "from tqdm import tqdm\n",
    "import pickle\n",
    "\n",
    "import pandas as pd\n",
    "import numpy as np\n",
    "import seaborn as sns\n",
    "import matplotlib.pyplot as plt\n",
    "%matplotlib inline\n",
    "\n",
    "import librosa\n",
    "\n",
    "from sklearn.preprocessing import StandardScaler\n",
    "from sklearn.feature_selection import RFECV,mutual_info_regression\n",
    "from sklearn.metrics import confusion_matrix, accuracy_score,classification_report\n",
    "from sklearn.model_selection import train_test_split, cross_val_score\n",
    "from sklearn.decomposition import PCA\n",
    "\n",
    "from xgboost import XGBClassifier\n",
    "\n",
    "#For hyperparameter tuning\n",
    "from hyperopt import STATUS_OK, Trials, fmin, hp, tpe\n"
   ]
  },
  {
   "cell_type": "markdown",
   "id": "fa077336",
   "metadata": {
    "papermill": {
     "duration": 0.023764,
     "end_time": "2022-01-16T10:37:56.150697",
     "exception": false,
     "start_time": "2022-01-16T10:37:56.126933",
     "status": "completed"
    },
    "tags": []
   },
   "source": [
    "There are 2 csv files of the features. One has the features for each song for 30 seconds long and another one just has the features of 3 seconds long. The 3-sec dataset contains data of 9990 songs whilst the 30-sec dataset only has 1000 songs (the songs in the genre folder). Looking at the other notebooks, they get a pretty good result making a model from a 3-sec dataset but just an average result for 30-sec dataset. This maybe to the lack of training data.\n",
    "\n",
    "Despite this, inuitively it is rather difficult to classify a song just by 3 seconds. Making a model from 3 seconds song may affect the real prediction power.\n",
    "Therefore, we will explore the 30-sec dataset and see what we can do to create a good model"
   ]
  },
  {
   "cell_type": "code",
   "execution_count": 3,
   "id": "45f7fc33",
   "metadata": {
    "execution": {
     "iopub.execute_input": "2022-01-16T10:37:56.204187Z",
     "iopub.status.busy": "2022-01-16T10:37:56.203227Z",
     "iopub.status.idle": "2022-01-16T10:37:56.293739Z",
     "shell.execute_reply": "2022-01-16T10:37:56.294220Z",
     "shell.execute_reply.started": "2022-01-16T09:04:30.173963Z"
    },
    "papermill": {
     "duration": 0.117942,
     "end_time": "2022-01-16T10:37:56.294389",
     "exception": false,
     "start_time": "2022-01-16T10:37:56.176447",
     "status": "completed"
    },
    "tags": []
   },
   "outputs": [
    {
     "data": {
      "text/html": [
       "<div>\n",
       "<style scoped>\n",
       "    .dataframe tbody tr th:only-of-type {\n",
       "        vertical-align: middle;\n",
       "    }\n",
       "\n",
       "    .dataframe tbody tr th {\n",
       "        vertical-align: top;\n",
       "    }\n",
       "\n",
       "    .dataframe thead th {\n",
       "        text-align: right;\n",
       "    }\n",
       "</style>\n",
       "<table border=\"1\" class=\"dataframe\">\n",
       "  <thead>\n",
       "    <tr style=\"text-align: right;\">\n",
       "      <th></th>\n",
       "      <th>filename</th>\n",
       "      <th>length</th>\n",
       "      <th>chroma_stft_mean</th>\n",
       "      <th>chroma_stft_var</th>\n",
       "      <th>rms_mean</th>\n",
       "      <th>rms_var</th>\n",
       "      <th>spectral_centroid_mean</th>\n",
       "      <th>spectral_centroid_var</th>\n",
       "      <th>spectral_bandwidth_mean</th>\n",
       "      <th>spectral_bandwidth_var</th>\n",
       "      <th>...</th>\n",
       "      <th>mfcc16_var</th>\n",
       "      <th>mfcc17_mean</th>\n",
       "      <th>mfcc17_var</th>\n",
       "      <th>mfcc18_mean</th>\n",
       "      <th>mfcc18_var</th>\n",
       "      <th>mfcc19_mean</th>\n",
       "      <th>mfcc19_var</th>\n",
       "      <th>mfcc20_mean</th>\n",
       "      <th>mfcc20_var</th>\n",
       "      <th>label</th>\n",
       "    </tr>\n",
       "  </thead>\n",
       "  <tbody>\n",
       "    <tr>\n",
       "      <th>0</th>\n",
       "      <td>blues.00000.wav</td>\n",
       "      <td>661794</td>\n",
       "      <td>0.350088</td>\n",
       "      <td>0.088757</td>\n",
       "      <td>0.130228</td>\n",
       "      <td>0.002827</td>\n",
       "      <td>1784.165850</td>\n",
       "      <td>129774.064525</td>\n",
       "      <td>2002.449060</td>\n",
       "      <td>85882.761315</td>\n",
       "      <td>...</td>\n",
       "      <td>52.420910</td>\n",
       "      <td>-1.690215</td>\n",
       "      <td>36.524071</td>\n",
       "      <td>-0.408979</td>\n",
       "      <td>41.597103</td>\n",
       "      <td>-2.303523</td>\n",
       "      <td>55.062923</td>\n",
       "      <td>1.221291</td>\n",
       "      <td>46.936035</td>\n",
       "      <td>blues</td>\n",
       "    </tr>\n",
       "    <tr>\n",
       "      <th>1</th>\n",
       "      <td>blues.00001.wav</td>\n",
       "      <td>661794</td>\n",
       "      <td>0.340914</td>\n",
       "      <td>0.094980</td>\n",
       "      <td>0.095948</td>\n",
       "      <td>0.002373</td>\n",
       "      <td>1530.176679</td>\n",
       "      <td>375850.073649</td>\n",
       "      <td>2039.036516</td>\n",
       "      <td>213843.755497</td>\n",
       "      <td>...</td>\n",
       "      <td>55.356403</td>\n",
       "      <td>-0.731125</td>\n",
       "      <td>60.314529</td>\n",
       "      <td>0.295073</td>\n",
       "      <td>48.120598</td>\n",
       "      <td>-0.283518</td>\n",
       "      <td>51.106190</td>\n",
       "      <td>0.531217</td>\n",
       "      <td>45.786282</td>\n",
       "      <td>blues</td>\n",
       "    </tr>\n",
       "    <tr>\n",
       "      <th>2</th>\n",
       "      <td>blues.00002.wav</td>\n",
       "      <td>661794</td>\n",
       "      <td>0.363637</td>\n",
       "      <td>0.085275</td>\n",
       "      <td>0.175570</td>\n",
       "      <td>0.002746</td>\n",
       "      <td>1552.811865</td>\n",
       "      <td>156467.643368</td>\n",
       "      <td>1747.702312</td>\n",
       "      <td>76254.192257</td>\n",
       "      <td>...</td>\n",
       "      <td>40.598766</td>\n",
       "      <td>-7.729093</td>\n",
       "      <td>47.639427</td>\n",
       "      <td>-1.816407</td>\n",
       "      <td>52.382141</td>\n",
       "      <td>-3.439720</td>\n",
       "      <td>46.639660</td>\n",
       "      <td>-2.231258</td>\n",
       "      <td>30.573025</td>\n",
       "      <td>blues</td>\n",
       "    </tr>\n",
       "    <tr>\n",
       "      <th>3</th>\n",
       "      <td>blues.00003.wav</td>\n",
       "      <td>661794</td>\n",
       "      <td>0.404785</td>\n",
       "      <td>0.093999</td>\n",
       "      <td>0.141093</td>\n",
       "      <td>0.006346</td>\n",
       "      <td>1070.106615</td>\n",
       "      <td>184355.942417</td>\n",
       "      <td>1596.412872</td>\n",
       "      <td>166441.494769</td>\n",
       "      <td>...</td>\n",
       "      <td>44.427753</td>\n",
       "      <td>-3.319597</td>\n",
       "      <td>50.206673</td>\n",
       "      <td>0.636965</td>\n",
       "      <td>37.319130</td>\n",
       "      <td>-0.619121</td>\n",
       "      <td>37.259739</td>\n",
       "      <td>-3.407448</td>\n",
       "      <td>31.949339</td>\n",
       "      <td>blues</td>\n",
       "    </tr>\n",
       "    <tr>\n",
       "      <th>4</th>\n",
       "      <td>blues.00004.wav</td>\n",
       "      <td>661794</td>\n",
       "      <td>0.308526</td>\n",
       "      <td>0.087841</td>\n",
       "      <td>0.091529</td>\n",
       "      <td>0.002303</td>\n",
       "      <td>1835.004266</td>\n",
       "      <td>343399.939274</td>\n",
       "      <td>1748.172116</td>\n",
       "      <td>88445.209036</td>\n",
       "      <td>...</td>\n",
       "      <td>86.099236</td>\n",
       "      <td>-5.454034</td>\n",
       "      <td>75.269707</td>\n",
       "      <td>-0.916874</td>\n",
       "      <td>53.613918</td>\n",
       "      <td>-4.404827</td>\n",
       "      <td>62.910812</td>\n",
       "      <td>-11.703234</td>\n",
       "      <td>55.195160</td>\n",
       "      <td>blues</td>\n",
       "    </tr>\n",
       "  </tbody>\n",
       "</table>\n",
       "<p>5 rows × 60 columns</p>\n",
       "</div>"
      ],
      "text/plain": [
       "          filename  length  chroma_stft_mean  chroma_stft_var  rms_mean  \\\n",
       "0  blues.00000.wav  661794          0.350088         0.088757  0.130228   \n",
       "1  blues.00001.wav  661794          0.340914         0.094980  0.095948   \n",
       "2  blues.00002.wav  661794          0.363637         0.085275  0.175570   \n",
       "3  blues.00003.wav  661794          0.404785         0.093999  0.141093   \n",
       "4  blues.00004.wav  661794          0.308526         0.087841  0.091529   \n",
       "\n",
       "    rms_var  spectral_centroid_mean  spectral_centroid_var  \\\n",
       "0  0.002827             1784.165850          129774.064525   \n",
       "1  0.002373             1530.176679          375850.073649   \n",
       "2  0.002746             1552.811865          156467.643368   \n",
       "3  0.006346             1070.106615          184355.942417   \n",
       "4  0.002303             1835.004266          343399.939274   \n",
       "\n",
       "   spectral_bandwidth_mean  spectral_bandwidth_var  ...  mfcc16_var  \\\n",
       "0              2002.449060            85882.761315  ...   52.420910   \n",
       "1              2039.036516           213843.755497  ...   55.356403   \n",
       "2              1747.702312            76254.192257  ...   40.598766   \n",
       "3              1596.412872           166441.494769  ...   44.427753   \n",
       "4              1748.172116            88445.209036  ...   86.099236   \n",
       "\n",
       "   mfcc17_mean  mfcc17_var  mfcc18_mean  mfcc18_var  mfcc19_mean  mfcc19_var  \\\n",
       "0    -1.690215   36.524071    -0.408979   41.597103    -2.303523   55.062923   \n",
       "1    -0.731125   60.314529     0.295073   48.120598    -0.283518   51.106190   \n",
       "2    -7.729093   47.639427    -1.816407   52.382141    -3.439720   46.639660   \n",
       "3    -3.319597   50.206673     0.636965   37.319130    -0.619121   37.259739   \n",
       "4    -5.454034   75.269707    -0.916874   53.613918    -4.404827   62.910812   \n",
       "\n",
       "   mfcc20_mean  mfcc20_var  label  \n",
       "0     1.221291   46.936035  blues  \n",
       "1     0.531217   45.786282  blues  \n",
       "2    -2.231258   30.573025  blues  \n",
       "3    -3.407448   31.949339  blues  \n",
       "4   -11.703234   55.195160  blues  \n",
       "\n",
       "[5 rows x 60 columns]"
      ]
     },
     "execution_count": 3,
     "metadata": {},
     "output_type": "execute_result"
    }
   ],
   "source": [
    "df = pd.read_csv('../input/gtzan-dataset-music-genre-classification/Data/features_30_sec.csv')\n",
    "df.head()"
   ]
  },
  {
   "cell_type": "code",
   "execution_count": 4,
   "id": "a0629f52",
   "metadata": {
    "execution": {
     "iopub.execute_input": "2022-01-16T10:37:56.357324Z",
     "iopub.status.busy": "2022-01-16T10:37:56.356595Z",
     "iopub.status.idle": "2022-01-16T10:37:56.359462Z",
     "shell.execute_reply": "2022-01-16T10:37:56.359924Z",
     "shell.execute_reply.started": "2022-01-16T09:04:30.282906Z"
    },
    "papermill": {
     "duration": 0.041199,
     "end_time": "2022-01-16T10:37:56.360092",
     "exception": false,
     "start_time": "2022-01-16T10:37:56.318893",
     "status": "completed"
    },
    "tags": []
   },
   "outputs": [
    {
     "data": {
      "text/plain": [
       "blues        100\n",
       "classical    100\n",
       "country      100\n",
       "disco        100\n",
       "hiphop       100\n",
       "jazz         100\n",
       "metal        100\n",
       "pop          100\n",
       "reggae       100\n",
       "rock         100\n",
       "Name: label, dtype: int64"
      ]
     },
     "execution_count": 4,
     "metadata": {},
     "output_type": "execute_result"
    }
   ],
   "source": [
    "df.label.value_counts()"
   ]
  },
  {
   "cell_type": "code",
   "execution_count": 5,
   "id": "d7b24a9b",
   "metadata": {
    "execution": {
     "iopub.execute_input": "2022-01-16T10:37:56.416548Z",
     "iopub.status.busy": "2022-01-16T10:37:56.415577Z",
     "iopub.status.idle": "2022-01-16T10:37:56.430937Z",
     "shell.execute_reply": "2022-01-16T10:37:56.430462Z",
     "shell.execute_reply.started": "2022-01-16T09:04:30.302142Z"
    },
    "papermill": {
     "duration": 0.046343,
     "end_time": "2022-01-16T10:37:56.431076",
     "exception": false,
     "start_time": "2022-01-16T10:37:56.384733",
     "status": "completed"
    },
    "tags": []
   },
   "outputs": [
    {
     "name": "stdout",
     "output_type": "stream",
     "text": [
      "<class 'pandas.core.frame.DataFrame'>\n",
      "RangeIndex: 1000 entries, 0 to 999\n",
      "Data columns (total 60 columns):\n",
      " #   Column                   Non-Null Count  Dtype  \n",
      "---  ------                   --------------  -----  \n",
      " 0   filename                 1000 non-null   object \n",
      " 1   length                   1000 non-null   int64  \n",
      " 2   chroma_stft_mean         1000 non-null   float64\n",
      " 3   chroma_stft_var          1000 non-null   float64\n",
      " 4   rms_mean                 1000 non-null   float64\n",
      " 5   rms_var                  1000 non-null   float64\n",
      " 6   spectral_centroid_mean   1000 non-null   float64\n",
      " 7   spectral_centroid_var    1000 non-null   float64\n",
      " 8   spectral_bandwidth_mean  1000 non-null   float64\n",
      " 9   spectral_bandwidth_var   1000 non-null   float64\n",
      " 10  rolloff_mean             1000 non-null   float64\n",
      " 11  rolloff_var              1000 non-null   float64\n",
      " 12  zero_crossing_rate_mean  1000 non-null   float64\n",
      " 13  zero_crossing_rate_var   1000 non-null   float64\n",
      " 14  harmony_mean             1000 non-null   float64\n",
      " 15  harmony_var              1000 non-null   float64\n",
      " 16  perceptr_mean            1000 non-null   float64\n",
      " 17  perceptr_var             1000 non-null   float64\n",
      " 18  tempo                    1000 non-null   float64\n",
      " 19  mfcc1_mean               1000 non-null   float64\n",
      " 20  mfcc1_var                1000 non-null   float64\n",
      " 21  mfcc2_mean               1000 non-null   float64\n",
      " 22  mfcc2_var                1000 non-null   float64\n",
      " 23  mfcc3_mean               1000 non-null   float64\n",
      " 24  mfcc3_var                1000 non-null   float64\n",
      " 25  mfcc4_mean               1000 non-null   float64\n",
      " 26  mfcc4_var                1000 non-null   float64\n",
      " 27  mfcc5_mean               1000 non-null   float64\n",
      " 28  mfcc5_var                1000 non-null   float64\n",
      " 29  mfcc6_mean               1000 non-null   float64\n",
      " 30  mfcc6_var                1000 non-null   float64\n",
      " 31  mfcc7_mean               1000 non-null   float64\n",
      " 32  mfcc7_var                1000 non-null   float64\n",
      " 33  mfcc8_mean               1000 non-null   float64\n",
      " 34  mfcc8_var                1000 non-null   float64\n",
      " 35  mfcc9_mean               1000 non-null   float64\n",
      " 36  mfcc9_var                1000 non-null   float64\n",
      " 37  mfcc10_mean              1000 non-null   float64\n",
      " 38  mfcc10_var               1000 non-null   float64\n",
      " 39  mfcc11_mean              1000 non-null   float64\n",
      " 40  mfcc11_var               1000 non-null   float64\n",
      " 41  mfcc12_mean              1000 non-null   float64\n",
      " 42  mfcc12_var               1000 non-null   float64\n",
      " 43  mfcc13_mean              1000 non-null   float64\n",
      " 44  mfcc13_var               1000 non-null   float64\n",
      " 45  mfcc14_mean              1000 non-null   float64\n",
      " 46  mfcc14_var               1000 non-null   float64\n",
      " 47  mfcc15_mean              1000 non-null   float64\n",
      " 48  mfcc15_var               1000 non-null   float64\n",
      " 49  mfcc16_mean              1000 non-null   float64\n",
      " 50  mfcc16_var               1000 non-null   float64\n",
      " 51  mfcc17_mean              1000 non-null   float64\n",
      " 52  mfcc17_var               1000 non-null   float64\n",
      " 53  mfcc18_mean              1000 non-null   float64\n",
      " 54  mfcc18_var               1000 non-null   float64\n",
      " 55  mfcc19_mean              1000 non-null   float64\n",
      " 56  mfcc19_var               1000 non-null   float64\n",
      " 57  mfcc20_mean              1000 non-null   float64\n",
      " 58  mfcc20_var               1000 non-null   float64\n",
      " 59  label                    1000 non-null   object \n",
      "dtypes: float64(57), int64(1), object(2)\n",
      "memory usage: 468.9+ KB\n"
     ]
    }
   ],
   "source": [
    "df.info()"
   ]
  },
  {
   "cell_type": "code",
   "execution_count": 6,
   "id": "9caf69e3",
   "metadata": {
    "execution": {
     "iopub.execute_input": "2022-01-16T10:37:56.488380Z",
     "iopub.status.busy": "2022-01-16T10:37:56.483883Z",
     "iopub.status.idle": "2022-01-16T10:37:56.602722Z",
     "shell.execute_reply": "2022-01-16T10:37:56.602223Z",
     "shell.execute_reply.started": "2022-01-16T09:04:30.329947Z"
    },
    "papermill": {
     "duration": 0.146787,
     "end_time": "2022-01-16T10:37:56.602881",
     "exception": false,
     "start_time": "2022-01-16T10:37:56.456094",
     "status": "completed"
    },
    "tags": []
   },
   "outputs": [
    {
     "data": {
      "text/html": [
       "<div>\n",
       "<style scoped>\n",
       "    .dataframe tbody tr th:only-of-type {\n",
       "        vertical-align: middle;\n",
       "    }\n",
       "\n",
       "    .dataframe tbody tr th {\n",
       "        vertical-align: top;\n",
       "    }\n",
       "\n",
       "    .dataframe thead th {\n",
       "        text-align: right;\n",
       "    }\n",
       "</style>\n",
       "<table border=\"1\" class=\"dataframe\">\n",
       "  <thead>\n",
       "    <tr style=\"text-align: right;\">\n",
       "      <th></th>\n",
       "      <th>length</th>\n",
       "      <th>chroma_stft_mean</th>\n",
       "      <th>chroma_stft_var</th>\n",
       "      <th>rms_mean</th>\n",
       "      <th>rms_var</th>\n",
       "      <th>spectral_centroid_mean</th>\n",
       "      <th>spectral_centroid_var</th>\n",
       "      <th>spectral_bandwidth_mean</th>\n",
       "      <th>spectral_bandwidth_var</th>\n",
       "      <th>rolloff_mean</th>\n",
       "      <th>...</th>\n",
       "      <th>mfcc16_mean</th>\n",
       "      <th>mfcc16_var</th>\n",
       "      <th>mfcc17_mean</th>\n",
       "      <th>mfcc17_var</th>\n",
       "      <th>mfcc18_mean</th>\n",
       "      <th>mfcc18_var</th>\n",
       "      <th>mfcc19_mean</th>\n",
       "      <th>mfcc19_var</th>\n",
       "      <th>mfcc20_mean</th>\n",
       "      <th>mfcc20_var</th>\n",
       "    </tr>\n",
       "  </thead>\n",
       "  <tbody>\n",
       "    <tr>\n",
       "      <th>count</th>\n",
       "      <td>1000.000000</td>\n",
       "      <td>1000.000000</td>\n",
       "      <td>1000.000000</td>\n",
       "      <td>1000.000000</td>\n",
       "      <td>1000.000000</td>\n",
       "      <td>1000.000000</td>\n",
       "      <td>1.000000e+03</td>\n",
       "      <td>1000.000000</td>\n",
       "      <td>1000.000000</td>\n",
       "      <td>1000.000000</td>\n",
       "      <td>...</td>\n",
       "      <td>1000.000000</td>\n",
       "      <td>1000.000000</td>\n",
       "      <td>1000.000000</td>\n",
       "      <td>1000.000000</td>\n",
       "      <td>1000.000000</td>\n",
       "      <td>1000.000000</td>\n",
       "      <td>1000.000000</td>\n",
       "      <td>1000.000000</td>\n",
       "      <td>1000.000000</td>\n",
       "      <td>1000.000000</td>\n",
       "    </tr>\n",
       "    <tr>\n",
       "      <th>mean</th>\n",
       "      <td>662030.846000</td>\n",
       "      <td>0.378682</td>\n",
       "      <td>0.086340</td>\n",
       "      <td>0.130930</td>\n",
       "      <td>0.003051</td>\n",
       "      <td>2201.780898</td>\n",
       "      <td>4.696916e+05</td>\n",
       "      <td>2242.541070</td>\n",
       "      <td>137079.155165</td>\n",
       "      <td>4571.549304</td>\n",
       "      <td>...</td>\n",
       "      <td>1.148144</td>\n",
       "      <td>60.730958</td>\n",
       "      <td>-3.966028</td>\n",
       "      <td>62.633624</td>\n",
       "      <td>0.507696</td>\n",
       "      <td>63.712586</td>\n",
       "      <td>-2.328761</td>\n",
       "      <td>66.231930</td>\n",
       "      <td>-1.095348</td>\n",
       "      <td>70.126096</td>\n",
       "    </tr>\n",
       "    <tr>\n",
       "      <th>std</th>\n",
       "      <td>1784.073992</td>\n",
       "      <td>0.081705</td>\n",
       "      <td>0.007735</td>\n",
       "      <td>0.065683</td>\n",
       "      <td>0.003634</td>\n",
       "      <td>715.960600</td>\n",
       "      <td>4.008995e+05</td>\n",
       "      <td>526.316473</td>\n",
       "      <td>96455.666326</td>\n",
       "      <td>1574.791602</td>\n",
       "      <td>...</td>\n",
       "      <td>4.578948</td>\n",
       "      <td>33.781951</td>\n",
       "      <td>4.549697</td>\n",
       "      <td>33.479172</td>\n",
       "      <td>3.869105</td>\n",
       "      <td>34.401977</td>\n",
       "      <td>3.755957</td>\n",
       "      <td>37.174631</td>\n",
       "      <td>3.837007</td>\n",
       "      <td>45.228512</td>\n",
       "    </tr>\n",
       "    <tr>\n",
       "      <th>min</th>\n",
       "      <td>660000.000000</td>\n",
       "      <td>0.171939</td>\n",
       "      <td>0.044555</td>\n",
       "      <td>0.005276</td>\n",
       "      <td>0.000004</td>\n",
       "      <td>570.040355</td>\n",
       "      <td>7.911251e+03</td>\n",
       "      <td>898.066208</td>\n",
       "      <td>10787.185064</td>\n",
       "      <td>749.140636</td>\n",
       "      <td>...</td>\n",
       "      <td>-15.693844</td>\n",
       "      <td>9.169314</td>\n",
       "      <td>-17.234728</td>\n",
       "      <td>13.931521</td>\n",
       "      <td>-11.963694</td>\n",
       "      <td>15.420555</td>\n",
       "      <td>-18.501955</td>\n",
       "      <td>13.487622</td>\n",
       "      <td>-19.929634</td>\n",
       "      <td>7.956583</td>\n",
       "    </tr>\n",
       "    <tr>\n",
       "      <th>25%</th>\n",
       "      <td>661504.000000</td>\n",
       "      <td>0.319562</td>\n",
       "      <td>0.082298</td>\n",
       "      <td>0.086657</td>\n",
       "      <td>0.000942</td>\n",
       "      <td>1627.697311</td>\n",
       "      <td>1.843505e+05</td>\n",
       "      <td>1907.240605</td>\n",
       "      <td>67376.554428</td>\n",
       "      <td>3380.069642</td>\n",
       "      <td>...</td>\n",
       "      <td>-1.863280</td>\n",
       "      <td>40.376442</td>\n",
       "      <td>-7.207225</td>\n",
       "      <td>40.830875</td>\n",
       "      <td>-2.007015</td>\n",
       "      <td>41.884240</td>\n",
       "      <td>-4.662925</td>\n",
       "      <td>41.710184</td>\n",
       "      <td>-3.368996</td>\n",
       "      <td>42.372865</td>\n",
       "    </tr>\n",
       "    <tr>\n",
       "      <th>50%</th>\n",
       "      <td>661794.000000</td>\n",
       "      <td>0.383148</td>\n",
       "      <td>0.086615</td>\n",
       "      <td>0.122443</td>\n",
       "      <td>0.001816</td>\n",
       "      <td>2209.263090</td>\n",
       "      <td>3.384862e+05</td>\n",
       "      <td>2221.392843</td>\n",
       "      <td>111977.548036</td>\n",
       "      <td>4658.524473</td>\n",
       "      <td>...</td>\n",
       "      <td>1.212809</td>\n",
       "      <td>52.325077</td>\n",
       "      <td>-4.065605</td>\n",
       "      <td>54.717674</td>\n",
       "      <td>0.669643</td>\n",
       "      <td>54.804890</td>\n",
       "      <td>-2.393862</td>\n",
       "      <td>57.423059</td>\n",
       "      <td>-1.166289</td>\n",
       "      <td>59.186117</td>\n",
       "    </tr>\n",
       "    <tr>\n",
       "      <th>75%</th>\n",
       "      <td>661794.000000</td>\n",
       "      <td>0.435942</td>\n",
       "      <td>0.091256</td>\n",
       "      <td>0.175682</td>\n",
       "      <td>0.003577</td>\n",
       "      <td>2691.294667</td>\n",
       "      <td>6.121479e+05</td>\n",
       "      <td>2578.469836</td>\n",
       "      <td>182371.576801</td>\n",
       "      <td>5533.810460</td>\n",
       "      <td>...</td>\n",
       "      <td>4.359662</td>\n",
       "      <td>71.691755</td>\n",
       "      <td>-0.838737</td>\n",
       "      <td>75.040838</td>\n",
       "      <td>3.119212</td>\n",
       "      <td>75.385832</td>\n",
       "      <td>0.150573</td>\n",
       "      <td>78.626444</td>\n",
       "      <td>1.312615</td>\n",
       "      <td>85.375374</td>\n",
       "    </tr>\n",
       "    <tr>\n",
       "      <th>max</th>\n",
       "      <td>675808.000000</td>\n",
       "      <td>0.663685</td>\n",
       "      <td>0.108111</td>\n",
       "      <td>0.397973</td>\n",
       "      <td>0.027679</td>\n",
       "      <td>4435.243901</td>\n",
       "      <td>3.036843e+06</td>\n",
       "      <td>3509.646417</td>\n",
       "      <td>694784.811549</td>\n",
       "      <td>8677.672688</td>\n",
       "      <td>...</td>\n",
       "      <td>13.457150</td>\n",
       "      <td>392.932373</td>\n",
       "      <td>11.482946</td>\n",
       "      <td>406.058868</td>\n",
       "      <td>15.388390</td>\n",
       "      <td>332.905426</td>\n",
       "      <td>14.694924</td>\n",
       "      <td>393.161987</td>\n",
       "      <td>15.369627</td>\n",
       "      <td>506.065155</td>\n",
       "    </tr>\n",
       "  </tbody>\n",
       "</table>\n",
       "<p>8 rows × 58 columns</p>\n",
       "</div>"
      ],
      "text/plain": [
       "              length  chroma_stft_mean  chroma_stft_var     rms_mean  \\\n",
       "count    1000.000000       1000.000000      1000.000000  1000.000000   \n",
       "mean   662030.846000          0.378682         0.086340     0.130930   \n",
       "std      1784.073992          0.081705         0.007735     0.065683   \n",
       "min    660000.000000          0.171939         0.044555     0.005276   \n",
       "25%    661504.000000          0.319562         0.082298     0.086657   \n",
       "50%    661794.000000          0.383148         0.086615     0.122443   \n",
       "75%    661794.000000          0.435942         0.091256     0.175682   \n",
       "max    675808.000000          0.663685         0.108111     0.397973   \n",
       "\n",
       "           rms_var  spectral_centroid_mean  spectral_centroid_var  \\\n",
       "count  1000.000000             1000.000000           1.000000e+03   \n",
       "mean      0.003051             2201.780898           4.696916e+05   \n",
       "std       0.003634              715.960600           4.008995e+05   \n",
       "min       0.000004              570.040355           7.911251e+03   \n",
       "25%       0.000942             1627.697311           1.843505e+05   \n",
       "50%       0.001816             2209.263090           3.384862e+05   \n",
       "75%       0.003577             2691.294667           6.121479e+05   \n",
       "max       0.027679             4435.243901           3.036843e+06   \n",
       "\n",
       "       spectral_bandwidth_mean  spectral_bandwidth_var  rolloff_mean  ...  \\\n",
       "count              1000.000000             1000.000000   1000.000000  ...   \n",
       "mean               2242.541070           137079.155165   4571.549304  ...   \n",
       "std                 526.316473            96455.666326   1574.791602  ...   \n",
       "min                 898.066208            10787.185064    749.140636  ...   \n",
       "25%                1907.240605            67376.554428   3380.069642  ...   \n",
       "50%                2221.392843           111977.548036   4658.524473  ...   \n",
       "75%                2578.469836           182371.576801   5533.810460  ...   \n",
       "max                3509.646417           694784.811549   8677.672688  ...   \n",
       "\n",
       "       mfcc16_mean   mfcc16_var  mfcc17_mean   mfcc17_var  mfcc18_mean  \\\n",
       "count  1000.000000  1000.000000  1000.000000  1000.000000  1000.000000   \n",
       "mean      1.148144    60.730958    -3.966028    62.633624     0.507696   \n",
       "std       4.578948    33.781951     4.549697    33.479172     3.869105   \n",
       "min     -15.693844     9.169314   -17.234728    13.931521   -11.963694   \n",
       "25%      -1.863280    40.376442    -7.207225    40.830875    -2.007015   \n",
       "50%       1.212809    52.325077    -4.065605    54.717674     0.669643   \n",
       "75%       4.359662    71.691755    -0.838737    75.040838     3.119212   \n",
       "max      13.457150   392.932373    11.482946   406.058868    15.388390   \n",
       "\n",
       "        mfcc18_var  mfcc19_mean   mfcc19_var  mfcc20_mean   mfcc20_var  \n",
       "count  1000.000000  1000.000000  1000.000000  1000.000000  1000.000000  \n",
       "mean     63.712586    -2.328761    66.231930    -1.095348    70.126096  \n",
       "std      34.401977     3.755957    37.174631     3.837007    45.228512  \n",
       "min      15.420555   -18.501955    13.487622   -19.929634     7.956583  \n",
       "25%      41.884240    -4.662925    41.710184    -3.368996    42.372865  \n",
       "50%      54.804890    -2.393862    57.423059    -1.166289    59.186117  \n",
       "75%      75.385832     0.150573    78.626444     1.312615    85.375374  \n",
       "max     332.905426    14.694924   393.161987    15.369627   506.065155  \n",
       "\n",
       "[8 rows x 58 columns]"
      ]
     },
     "execution_count": 6,
     "metadata": {},
     "output_type": "execute_result"
    }
   ],
   "source": [
    "df.describe()"
   ]
  },
  {
   "cell_type": "markdown",
   "id": "7104eb11",
   "metadata": {
    "papermill": {
     "duration": 0.025682,
     "end_time": "2022-01-16T10:37:56.655325",
     "exception": false,
     "start_time": "2022-01-16T10:37:56.629643",
     "status": "completed"
    },
    "tags": []
   },
   "source": [
    "Initial findings:\n",
    "1. Only 1000 songs are in the dataset with no null values\n",
    "2. `length` is not a relevant variable which needs to be dropped in model training phase\n",
    "3. The data are sorted in the same order as the songs in the folders of the dataset and the classes are balanced\n",
    "4. There are some other music features that this dataset did not extract, for example, spectral contrast, spectral flatness, tonal centroid features etc. Given it is just a small dataset, we can extract them and put it in the dataframe for further analysis"
   ]
  },
  {
   "cell_type": "markdown",
   "id": "00f27aca",
   "metadata": {
    "papermill": {
     "duration": 0.027441,
     "end_time": "2022-01-16T10:37:56.708823",
     "exception": false,
     "start_time": "2022-01-16T10:37:56.681382",
     "status": "completed"
    },
    "tags": []
   },
   "source": [
    "# Extracting extra features and data cleaning\n",
    "We will now extract the mean and the variance of `chroma_cens`,`spectral_contrast`, `spectral_flatness` and `tonnetz`"
   ]
  },
  {
   "cell_type": "code",
   "execution_count": 7,
   "id": "da3b1a29",
   "metadata": {
    "execution": {
     "iopub.execute_input": "2022-01-16T10:37:56.770792Z",
     "iopub.status.busy": "2022-01-16T10:37:56.769791Z",
     "iopub.status.idle": "2022-01-16T11:02:10.920426Z",
     "shell.execute_reply": "2022-01-16T11:02:10.919037Z",
     "shell.execute_reply.started": "2022-01-16T09:04:30.470632Z"
    },
    "papermill": {
     "duration": 1454.185178,
     "end_time": "2022-01-16T11:02:10.920672",
     "exception": false,
     "start_time": "2022-01-16T10:37:56.735494",
     "status": "completed"
    },
    "tags": []
   },
   "outputs": [
    {
     "name": "stderr",
     "output_type": "stream",
     "text": [
      "  0%|          | 0/1000 [00:00<?, ?it/s]\n",
      " 10%|▉         | 99/1000 [02:26<22:11,  1.48s/it]\n",
      " 10%|▉         | 99/1000 [02:25<22:08,  1.47s/it]\n",
      " 10%|▉         | 99/1000 [02:25<22:03,  1.47s/it]\n",
      " 10%|▉         | 99/1000 [02:25<22:05,  1.47s/it]\n",
      " 10%|▉         | 99/1000 [02:24<21:59,  1.46s/it]\n",
      "  6%|▌         | 55/1000 [01:18<18:03,  1.15s/it]"
     ]
    },
    {
     "name": "stdout",
     "output_type": "stream",
     "text": [
      "Problem file: ../input/gtzan-dataset-music-genre-classification/Data/genres_original/jazz/jazz.00054.wav\n"
     ]
    },
    {
     "name": "stderr",
     "output_type": "stream",
     "text": [
      " 10%|▉         | 99/1000 [02:23<21:49,  1.45s/it]\n",
      " 10%|▉         | 99/1000 [02:26<22:11,  1.48s/it]\n",
      " 10%|▉         | 99/1000 [02:25<22:02,  1.47s/it]\n",
      " 10%|▉         | 99/1000 [02:24<21:55,  1.46s/it]\n",
      " 10%|▉         | 99/1000 [02:25<22:04,  1.47s/it]\n"
     ]
    }
   ],
   "source": [
    "songs_path = '../input/gtzan-dataset-music-genre-classification/Data/genres_original'\n",
    "\n",
    "def extract_new_features(song_path, num_files = 1000, num_new_features = 8):\n",
    "\n",
    "    data_array = np.empty([num_files, num_new_features])\n",
    "\n",
    "    counter = 0\n",
    "    for root, dirs, files in os.walk(songs_path):\n",
    "        dirs.sort()\n",
    "        for file, i in zip(sorted(files), tqdm(range(num_files))):\n",
    "            i = i + (counter-1)*100\n",
    "            file_path = os.path.join(root, file)\n",
    "        \n",
    "            try:\n",
    "                #extract mean and variance of those 4 features\n",
    "                y, sr = librosa.load(os.fspath(file_path))\n",
    "                chroma_cens = librosa.feature.chroma_cens(y=y, sr=sr)\n",
    "                spectral_contrast = librosa.feature.spectral_contrast(y=y, sr=sr)\n",
    "                spectral_flatness = librosa.feature.spectral_flatness(y=y)\n",
    "                tonnetz = librosa.feature.tonnetz(y=y, sr=sr)\n",
    "\n",
    "                data_array[i,0] = np.mean(chroma_cens)\n",
    "                data_array[i,1] = np.var(chroma_cens)\n",
    "                data_array[i,2] = np.mean(spectral_contrast)\n",
    "                data_array[i,3] = np.var(spectral_contrast)\n",
    "                data_array[i,4] = np.mean(spectral_flatness)\n",
    "                data_array[i,5] = np.var(spectral_flatness)\n",
    "                data_array[i,6] = np.mean(tonnetz)\n",
    "                data_array[i,7] = np.var(tonnetz)\n",
    "                \n",
    "            # Set all values to zero for files with problems\n",
    "            except:\n",
    "                print(f'Problem file: {file_path}')\n",
    "                for j in range(num_new_features):\n",
    "                    data_array[i, j] = 0 \n",
    "                \n",
    "        counter += 1\n",
    "                  \n",
    "    return data_array\n",
    "\n",
    "\n",
    "new_features_array = extract_new_features('../input/gtzan-dataset-music-genre-classification/Data/genres_original')"
   ]
  },
  {
   "cell_type": "markdown",
   "id": "3ad91c9d",
   "metadata": {
    "papermill": {
     "duration": 0.257406,
     "end_time": "2022-01-16T11:02:11.494709",
     "exception": false,
     "start_time": "2022-01-16T11:02:11.237303",
     "status": "completed"
    },
    "tags": []
   },
   "source": [
    "We can see that in the dataset, `jazz.00054.wav` this file has a problem and can't be played. We will initialize the values to 0 and will do further treatment after."
   ]
  },
  {
   "cell_type": "code",
   "execution_count": 8,
   "id": "ae723b21",
   "metadata": {
    "execution": {
     "iopub.execute_input": "2022-01-16T11:02:12.020075Z",
     "iopub.status.busy": "2022-01-16T11:02:12.019150Z",
     "iopub.status.idle": "2022-01-16T11:02:12.026043Z",
     "shell.execute_reply": "2022-01-16T11:02:12.026458Z",
     "shell.execute_reply.started": "2022-01-16T09:29:51.438993Z"
    },
    "papermill": {
     "duration": 0.273833,
     "end_time": "2022-01-16T11:02:12.026644",
     "exception": false,
     "start_time": "2022-01-16T11:02:11.752811",
     "status": "completed"
    },
    "tags": []
   },
   "outputs": [],
   "source": [
    "#Add those new features back to the original dataframe\n",
    "\n",
    "df['chroma_cens_mean'] = new_features_array[:,0]\n",
    "df['chroma_cens_var'] = new_features_array[:,1]\n",
    "df['spectral_contrast_mean'] = new_features_array[:,2]\n",
    "df['spectral_contrast_var'] = new_features_array[:,3]\n",
    "df['spectral_flatness_mean'] = new_features_array[:,4]\n",
    "df['spectral_flatness_var'] = new_features_array[:,5]\n",
    "df['tonnetz_mean'] = new_features_array[:,6]\n",
    "df['tonnetz_var'] = new_features_array[:,7]"
   ]
  },
  {
   "cell_type": "markdown",
   "id": "72513d73",
   "metadata": {
    "papermill": {
     "duration": 0.2639,
     "end_time": "2022-01-16T11:02:12.557529",
     "exception": false,
     "start_time": "2022-01-16T11:02:12.293629",
     "status": "completed"
    },
    "tags": []
   },
   "source": [
    "Since there is only 1 row of missing value, now we'll just fill in the missing values of `jazz.0054.wav` as the mean of those of the jazz songs, which is at index 554"
   ]
  },
  {
   "cell_type": "code",
   "execution_count": 9,
   "id": "d679c5d6",
   "metadata": {
    "execution": {
     "iopub.execute_input": "2022-01-16T11:02:13.076677Z",
     "iopub.status.busy": "2022-01-16T11:02:13.075703Z",
     "iopub.status.idle": "2022-01-16T11:02:13.089535Z",
     "shell.execute_reply": "2022-01-16T11:02:13.089966Z",
     "shell.execute_reply.started": "2022-01-16T09:29:51.461096Z"
    },
    "papermill": {
     "duration": 0.277971,
     "end_time": "2022-01-16T11:02:13.090152",
     "exception": false,
     "start_time": "2022-01-16T11:02:12.812181",
     "status": "completed"
    },
    "tags": []
   },
   "outputs": [],
   "source": [
    "for i in range(-8,0,1):\n",
    "    # Filter out the jazz genre except jazz.0054\n",
    "    df.iloc[554,i] = df[ df.label == 'jazz'].iloc[np.r_[np.arange(0,54),np.arange(55,100)],i].mean()"
   ]
  },
  {
   "cell_type": "code",
   "execution_count": 10,
   "id": "108a380a",
   "metadata": {
    "execution": {
     "iopub.execute_input": "2022-01-16T11:02:13.606315Z",
     "iopub.status.busy": "2022-01-16T11:02:13.605381Z",
     "iopub.status.idle": "2022-01-16T11:02:13.710910Z",
     "shell.execute_reply": "2022-01-16T11:02:13.710340Z",
     "shell.execute_reply.started": "2022-01-16T09:29:51.497258Z"
    },
    "papermill": {
     "duration": 0.365051,
     "end_time": "2022-01-16T11:02:13.711052",
     "exception": false,
     "start_time": "2022-01-16T11:02:13.346001",
     "status": "completed"
    },
    "tags": []
   },
   "outputs": [],
   "source": [
    "# Save as a new csv\n",
    "df.to_csv('new_csv',index=False)"
   ]
  },
  {
   "cell_type": "code",
   "execution_count": 11,
   "id": "8b7430fc",
   "metadata": {
    "execution": {
     "iopub.execute_input": "2022-01-16T11:02:14.234284Z",
     "iopub.status.busy": "2022-01-16T11:02:14.233604Z",
     "iopub.status.idle": "2022-01-16T11:02:14.237326Z",
     "shell.execute_reply": "2022-01-16T11:02:14.237781Z",
     "shell.execute_reply.started": "2022-01-16T09:31:48.388570Z"
    },
    "papermill": {
     "duration": 0.270802,
     "end_time": "2022-01-16T11:02:14.237966",
     "exception": false,
     "start_time": "2022-01-16T11:02:13.967164",
     "status": "completed"
    },
    "tags": []
   },
   "outputs": [],
   "source": [
    "#Exclude filename and Length\n",
    "df = df.iloc[:,2:]"
   ]
  },
  {
   "cell_type": "markdown",
   "id": "391024ea",
   "metadata": {
    "papermill": {
     "duration": 0.257127,
     "end_time": "2022-01-16T11:02:14.756740",
     "exception": false,
     "start_time": "2022-01-16T11:02:14.499613",
     "status": "completed"
    },
    "tags": []
   },
   "source": [
    "# EDA and Data preprocessing"
   ]
  },
  {
   "cell_type": "markdown",
   "id": "cc92cc1f",
   "metadata": {
    "papermill": {
     "duration": 0.297234,
     "end_time": "2022-01-16T11:02:15.321466",
     "exception": false,
     "start_time": "2022-01-16T11:02:15.024232",
     "status": "completed"
    },
    "tags": []
   },
   "source": [
    "**Correlations between mean variables**"
   ]
  },
  {
   "cell_type": "code",
   "execution_count": 12,
   "id": "b7f44980",
   "metadata": {
    "execution": {
     "iopub.execute_input": "2022-01-16T11:02:15.872899Z",
     "iopub.status.busy": "2022-01-16T11:02:15.872305Z",
     "iopub.status.idle": "2022-01-16T11:02:18.586443Z",
     "shell.execute_reply": "2022-01-16T11:02:18.585975Z",
     "shell.execute_reply.started": "2022-01-16T09:31:53.356169Z"
    },
    "papermill": {
     "duration": 2.989059,
     "end_time": "2022-01-16T11:02:18.586597",
     "exception": false,
     "start_time": "2022-01-16T11:02:15.597538",
     "status": "completed"
    },
    "tags": []
   },
   "outputs": [
    {
     "data": {
      "text/plain": [
       "<AxesSubplot:>"
      ]
     },
     "execution_count": 12,
     "metadata": {},
     "output_type": "execute_result"
    },
    {
     "data": {
      "image/png": "[encoded data removed]",
      "text/plain": [
       "<Figure size 1440x1440 with 2 Axes>"
      ]
     },
     "metadata": {
      "needs_background": "light"
     },
     "output_type": "display_data"
    }
   ],
   "source": [
    "corr = df.corr()\n",
    "\n",
    "#Create a mask for the heatmap\n",
    "mask = np.zeros_like(corr)\n",
    "mask[np.triu_indices_from(mask)] = True\n",
    "\n",
    "plt.subplots(figsize=(20, 20))\n",
    "sns.heatmap(corr, mask=mask, cmap=\"vlag\")\n"
   ]
  },
  {
   "cell_type": "markdown",
   "id": "5b5c2885",
   "metadata": {
    "papermill": {
     "duration": 0.259542,
     "end_time": "2022-01-16T11:02:19.108019",
     "exception": false,
     "start_time": "2022-01-16T11:02:18.848477",
     "status": "completed"
    },
    "tags": []
   },
   "source": [
    "Most of the variables do not have a high correlation with other variables. Let's filter out the extremely highly correlated pairs and examine them."
   ]
  },
  {
   "cell_type": "code",
   "execution_count": 13,
   "id": "2de56fa5",
   "metadata": {
    "execution": {
     "iopub.execute_input": "2022-01-16T11:02:19.696282Z",
     "iopub.status.busy": "2022-01-16T11:02:19.695272Z",
     "iopub.status.idle": "2022-01-16T11:02:19.709213Z",
     "shell.execute_reply": "2022-01-16T11:02:19.708660Z",
     "shell.execute_reply.started": "2022-01-16T09:32:53.219847Z"
    },
    "papermill": {
     "duration": 0.281957,
     "end_time": "2022-01-16T11:02:19.709352",
     "exception": false,
     "start_time": "2022-01-16T11:02:19.427395",
     "status": "completed"
    },
    "tags": []
   },
   "outputs": [
    {
     "name": "stdout",
     "output_type": "stream",
     "text": [
      "('spectral_centroid_mean', 'rolloff_mean') 0.9796372839713294\n",
      "('spectral_bandwidth_mean', 'rolloff_mean') 0.9561890507384935\n",
      "('chroma_cens_var', 'tonnetz_var') 0.9120508021375788\n",
      "('spectral_centroid_mean', 'spectral_bandwidth_mean') 0.9044346071495829\n",
      "('rms_mean', 'harmony_var') 0.8938978949769321\n",
      "('spectral_bandwidth_var', 'rolloff_var') 0.8848769664091609\n",
      "('spectral_centroid_mean', 'zero_crossing_rate_mean') 0.8747491925002655\n",
      "('mfcc19_var', 'mfcc20_var') 0.8687180893195621\n",
      "('spectral_centroid_var', 'zero_crossing_rate_var') 0.8441413391352148\n",
      "('mfcc6_mean', 'mfcc8_mean') 0.8373116484632848\n",
      "('mfcc17_var', 'mfcc18_var') 0.8331488323994957\n",
      "('mfcc16_var', 'mfcc17_var') 0.8273181486552698\n",
      "('mfcc18_var', 'mfcc19_var') 0.8209858681502503\n",
      "('mfcc15_var', 'mfcc16_var') 0.8208510961351836\n",
      "('spectral_centroid_var', 'rolloff_var') 0.8155497715224753\n",
      "('mfcc12_var', 'mfcc13_var') 0.8120478485875313\n",
      "('mfcc8_mean', 'mfcc10_mean') 0.8118547065473206\n",
      "('mfcc14_var', 'mfcc15_var') 0.810825439588405\n",
      "('mfcc10_mean', 'mfcc12_mean') 0.8081591518721893\n",
      "('rms_mean', 'mfcc1_mean') 0.8072386551965721\n",
      "('rms_mean', 'perceptr_var') 0.7899944071899505\n",
      "('rms_var', 'perceptr_var') 0.7899100576089092\n",
      "('mfcc7_mean', 'mfcc9_mean') 0.7870292594596798\n",
      "('mfcc8_mean', 'spectral_contrast_var') 0.7869377568990779\n",
      "('mfcc11_var', 'mfcc12_var') 0.784895313761198\n",
      "('spectral_centroid_mean', 'spectral_flatness_mean') 0.7811512030449556\n",
      "('rolloff_mean', 'zero_crossing_rate_mean') 0.7798232750121322\n",
      "('mfcc13_var', 'mfcc14_var') 0.7743544780022016\n",
      "('mfcc5_mean', 'mfcc7_mean') 0.7663759255607946\n",
      "('mfcc6_mean', 'spectral_contrast_var') 0.7639539980882771\n",
      "('mfcc11_mean', 'mfcc13_mean') 0.7613861193887019\n",
      "('mfcc8_mean', 'mfcc12_mean') 0.7598446185518525\n",
      "('zero_crossing_rate_mean', 'mfcc2_mean') -0.7601485206799093\n",
      "('spectral_bandwidth_mean', 'mfcc2_mean') -0.8966520208522367\n",
      "('chroma_cens_mean', 'tonnetz_var') -0.9271604429237654\n",
      "('rolloff_mean', 'mfcc2_mean') -0.9343020027882711\n",
      "('spectral_centroid_mean', 'mfcc2_mean') -0.9401804325825631\n",
      "('chroma_cens_mean', 'chroma_cens_var') -0.998383987801968\n"
     ]
    }
   ],
   "source": [
    "sol = (corr.where(np.triu(np.ones(corr.shape), k=1).astype(np.bool))\n",
    "                  .stack()\n",
    "                  .sort_values(ascending=False))\n",
    "for index, value in sol.items():\n",
    "    if (value > 0.75) or (value < -0.75):\n",
    "        print(index, value)"
   ]
  },
  {
   "cell_type": "markdown",
   "id": "1bad5a08",
   "metadata": {
    "papermill": {
     "duration": 0.260131,
     "end_time": "2022-01-16T11:02:20.228773",
     "exception": false,
     "start_time": "2022-01-16T11:02:19.968642",
     "status": "completed"
    },
    "tags": []
   },
   "source": [
    "**Split to train data and test data**\n",
    "\n",
    "Given the small number of training data, I set 90% as training data and 10% as testing data. For hyparameter tuning, given the small dataset, we will use the same train dataset to tune\n",
    "For the split of data, I make sure every class has the same number of data to train and test."
   ]
  },
  {
   "cell_type": "code",
   "execution_count": 14,
   "id": "ef1cc70d",
   "metadata": {
    "execution": {
     "iopub.execute_input": "2022-01-16T11:02:20.761277Z",
     "iopub.status.busy": "2022-01-16T11:02:20.760653Z",
     "iopub.status.idle": "2022-01-16T11:02:20.781091Z",
     "shell.execute_reply": "2022-01-16T11:02:20.781502Z",
     "shell.execute_reply.started": "2022-01-16T09:33:09.385094Z"
    },
    "papermill": {
     "duration": 0.289281,
     "end_time": "2022-01-16T11:02:20.781675",
     "exception": false,
     "start_time": "2022-01-16T11:02:20.492394",
     "status": "completed"
    },
    "tags": []
   },
   "outputs": [
    {
     "name": "stderr",
     "output_type": "stream",
     "text": [
      "/opt/conda/lib/python3.7/site-packages/pandas/core/frame.py:4913: SettingWithCopyWarning: \n",
      "A value is trying to be set on a copy of a slice from a DataFrame\n",
      "\n",
      "See the caveats in the documentation: https://pandas.pydata.org/pandas-docs/stable/user_guide/indexing.html#returning-a-view-versus-a-copy\n",
      "  errors=errors,\n"
     ]
    }
   ],
   "source": [
    "y = df.label\n",
    "X = df\n",
    "\n",
    "#Use `label` to split data evenly and drop `label` column after split\n",
    "X_train, X_test, y_train, y_test = train_test_split(X, y, test_size=0.1, stratify=df.label, random_state=77)\n",
    "X_train.drop('label',axis=1,inplace=True)\n",
    "X_test.drop('label',axis=1,inplace=True)"
   ]
  },
  {
   "cell_type": "markdown",
   "id": "9e846acc",
   "metadata": {
    "papermill": {
     "duration": 0.261118,
     "end_time": "2022-01-16T11:02:21.301457",
     "exception": false,
     "start_time": "2022-01-16T11:02:21.040339",
     "status": "completed"
    },
    "tags": []
   },
   "source": [
    "**Normalize the data**"
   ]
  },
  {
   "cell_type": "code",
   "execution_count": 15,
   "id": "fb95e11a",
   "metadata": {
    "execution": {
     "iopub.execute_input": "2022-01-16T11:02:21.827483Z",
     "iopub.status.busy": "2022-01-16T11:02:21.826794Z",
     "iopub.status.idle": "2022-01-16T11:02:21.835148Z",
     "shell.execute_reply": "2022-01-16T11:02:21.834602Z",
     "shell.execute_reply.started": "2022-01-16T09:33:11.319611Z"
    },
    "papermill": {
     "duration": 0.275786,
     "end_time": "2022-01-16T11:02:21.835301",
     "exception": false,
     "start_time": "2022-01-16T11:02:21.559515",
     "status": "completed"
    },
    "tags": []
   },
   "outputs": [],
   "source": [
    "sc = StandardScaler()\n",
    "X_train_scaled = sc.fit_transform(X_train)\n",
    "X_train = pd.DataFrame(X_train_scaled, index=X_train.index, columns=X_train.columns)\n",
    "X_test_scaled = sc.transform(X_test)\n",
    "X_test = pd.DataFrame(X_test_scaled, index=X_test.index, columns=X_test.columns)"
   ]
  },
  {
   "cell_type": "markdown",
   "id": "7b0a73c8",
   "metadata": {
    "papermill": {
     "duration": 0.260717,
     "end_time": "2022-01-16T11:02:22.358918",
     "exception": false,
     "start_time": "2022-01-16T11:02:22.098201",
     "status": "completed"
    },
    "tags": []
   },
   "source": [
    "# Initial model fitting and recursive feature elimination\n",
    "Now we will fit our training data to xgboost classifier first, and then we'll do RFECV to check which variables can be eliminated"
   ]
  },
  {
   "cell_type": "code",
   "execution_count": 16,
   "id": "ea5914aa",
   "metadata": {
    "execution": {
     "iopub.execute_input": "2022-01-16T11:02:22.889257Z",
     "iopub.status.busy": "2022-01-16T11:02:22.888504Z",
     "iopub.status.idle": "2022-01-16T11:10:36.785224Z",
     "shell.execute_reply": "2022-01-16T11:10:36.784702Z",
     "shell.execute_reply.started": "2022-01-16T09:33:19.158862Z"
    },
    "papermill": {
     "duration": 494.165338,
     "end_time": "2022-01-16T11:10:36.785371",
     "exception": false,
     "start_time": "2022-01-16T11:02:22.620033",
     "status": "completed"
    },
    "tags": []
   },
   "outputs": [
    {
     "name": "stdout",
     "output_type": "stream",
     "text": [
      "Fitting estimator with 65 features.\n",
      "Fitting estimator with 64 features.\n",
      "Fitting estimator with 63 features.\n",
      "Fitting estimator with 62 features.\n",
      "Fitting estimator with 61 features.\n",
      "Fitting estimator with 60 features.\n",
      "Fitting estimator with 59 features.\n",
      "Fitting estimator with 58 features.\n",
      "Fitting estimator with 57 features.\n",
      "Fitting estimator with 56 features.\n",
      "Fitting estimator with 55 features.\n",
      "Fitting estimator with 54 features.\n",
      "Fitting estimator with 53 features.\n",
      "Fitting estimator with 52 features.\n",
      "Fitting estimator with 51 features.\n",
      "Fitting estimator with 50 features.\n",
      "Fitting estimator with 49 features.\n",
      "Fitting estimator with 48 features.\n",
      "Fitting estimator with 47 features.\n",
      "Fitting estimator with 46 features.\n",
      "Fitting estimator with 45 features.\n",
      "Fitting estimator with 44 features.\n",
      "Fitting estimator with 43 features.\n",
      "Fitting estimator with 42 features.\n",
      "Fitting estimator with 41 features.\n",
      "Fitting estimator with 40 features.\n",
      "Fitting estimator with 39 features.\n",
      "Fitting estimator with 38 features.\n",
      "Fitting estimator with 37 features.\n",
      "Fitting estimator with 36 features.\n",
      "Fitting estimator with 35 features.\n",
      "Fitting estimator with 34 features.\n",
      "Fitting estimator with 33 features.\n",
      "Fitting estimator with 32 features.\n",
      "Fitting estimator with 31 features.\n",
      "Fitting estimator with 30 features.\n",
      "Fitting estimator with 29 features.\n",
      "Fitting estimator with 28 features.\n",
      "Fitting estimator with 27 features.\n",
      "Fitting estimator with 26 features.\n",
      "Fitting estimator with 25 features.\n",
      "Fitting estimator with 24 features.\n",
      "Fitting estimator with 23 features.\n",
      "Fitting estimator with 22 features.\n",
      "Fitting estimator with 21 features.\n",
      "Fitting estimator with 20 features.\n",
      "Fitting estimator with 19 features.\n",
      "Fitting estimator with 18 features.\n",
      "Fitting estimator with 17 features.\n",
      "Fitting estimator with 16 features.\n",
      "Fitting estimator with 15 features.\n",
      "Fitting estimator with 14 features.\n",
      "Fitting estimator with 13 features.\n",
      "Fitting estimator with 12 features.\n",
      "Fitting estimator with 11 features.\n",
      "Fitting estimator with 10 features.\n",
      "Fitting estimator with 9 features.\n",
      "Fitting estimator with 8 features.\n",
      "Fitting estimator with 7 features.\n",
      "Fitting estimator with 6 features.\n",
      "Fitting estimator with 5 features.\n",
      "Fitting estimator with 4 features.\n",
      "Fitting estimator with 3 features.\n",
      "Fitting estimator with 2 features.\n",
      "Fitting estimator with 65 features.\n",
      "Fitting estimator with 64 features.\n",
      "Fitting estimator with 63 features.\n",
      "Fitting estimator with 62 features.\n",
      "Fitting estimator with 61 features.\n",
      "Fitting estimator with 60 features.\n",
      "Fitting estimator with 59 features.\n",
      "Fitting estimator with 58 features.\n",
      "Fitting estimator with 57 features.\n",
      "Fitting estimator with 56 features.\n",
      "Fitting estimator with 55 features.\n",
      "Fitting estimator with 54 features.\n",
      "Fitting estimator with 53 features.\n",
      "Fitting estimator with 52 features.\n",
      "Fitting estimator with 51 features.\n",
      "Fitting estimator with 50 features.\n",
      "Fitting estimator with 49 features.\n",
      "Fitting estimator with 48 features.\n",
      "Fitting estimator with 47 features.\n",
      "Fitting estimator with 46 features.\n",
      "Fitting estimator with 45 features.\n",
      "Fitting estimator with 44 features.\n",
      "Fitting estimator with 43 features.\n",
      "Fitting estimator with 42 features.\n",
      "Fitting estimator with 41 features.\n",
      "Fitting estimator with 40 features.\n",
      "Fitting estimator with 39 features.\n",
      "Fitting estimator with 38 features.\n",
      "Fitting estimator with 37 features.\n",
      "Fitting estimator with 36 features.\n",
      "Fitting estimator with 35 features.\n",
      "Fitting estimator with 34 features.\n",
      "Fitting estimator with 33 features.\n",
      "Fitting estimator with 32 features.\n",
      "Fitting estimator with 31 features.\n",
      "Fitting estimator with 30 features.\n",
      "Fitting estimator with 29 features.\n",
      "Fitting estimator with 28 features.\n",
      "Fitting estimator with 27 features.\n",
      "Fitting estimator with 26 features.\n",
      "Fitting estimator with 25 features.\n",
      "Fitting estimator with 24 features.\n",
      "Fitting estimator with 23 features.\n",
      "Fitting estimator with 22 features.\n",
      "Fitting estimator with 21 features.\n",
      "Fitting estimator with 20 features.\n",
      "Fitting estimator with 19 features.\n",
      "Fitting estimator with 18 features.\n",
      "Fitting estimator with 17 features.\n",
      "Fitting estimator with 16 features.\n",
      "Fitting estimator with 15 features.\n",
      "Fitting estimator with 14 features.\n",
      "Fitting estimator with 13 features.\n",
      "Fitting estimator with 12 features.\n",
      "Fitting estimator with 11 features.\n",
      "Fitting estimator with 10 features.\n",
      "Fitting estimator with 9 features.\n",
      "Fitting estimator with 8 features.\n",
      "Fitting estimator with 7 features.\n",
      "Fitting estimator with 6 features.\n",
      "Fitting estimator with 5 features.\n",
      "Fitting estimator with 4 features.\n",
      "Fitting estimator with 3 features.\n",
      "Fitting estimator with 2 features.\n",
      "Fitting estimator with 65 features.\n",
      "Fitting estimator with 64 features.\n",
      "Fitting estimator with 63 features.\n",
      "Fitting estimator with 62 features.\n",
      "Fitting estimator with 61 features.\n",
      "Fitting estimator with 60 features.\n",
      "Fitting estimator with 59 features.\n",
      "Fitting estimator with 58 features.\n",
      "Fitting estimator with 57 features.\n",
      "Fitting estimator with 56 features.\n",
      "Fitting estimator with 55 features.\n",
      "Fitting estimator with 54 features.\n",
      "Fitting estimator with 53 features.\n",
      "Fitting estimator with 52 features.\n",
      "Fitting estimator with 51 features.\n",
      "Fitting estimator with 50 features.\n",
      "Fitting estimator with 49 features.\n",
      "Fitting estimator with 48 features.\n",
      "Fitting estimator with 47 features.\n",
      "Fitting estimator with 46 features.\n",
      "Fitting estimator with 45 features.\n",
      "Fitting estimator with 44 features.\n",
      "Fitting estimator with 43 features.\n",
      "Fitting estimator with 42 features.\n",
      "Fitting estimator with 41 features.\n",
      "Fitting estimator with 40 features.\n",
      "Fitting estimator with 39 features.\n",
      "Fitting estimator with 38 features.\n",
      "Fitting estimator with 37 features.\n",
      "Fitting estimator with 36 features.\n",
      "Fitting estimator with 35 features.\n",
      "Fitting estimator with 34 features.\n",
      "Fitting estimator with 33 features.\n",
      "Fitting estimator with 32 features.\n",
      "Fitting estimator with 31 features.\n",
      "Fitting estimator with 30 features.\n",
      "Fitting estimator with 29 features.\n",
      "Fitting estimator with 28 features.\n",
      "Fitting estimator with 27 features.\n",
      "Fitting estimator with 26 features.\n",
      "Fitting estimator with 25 features.\n",
      "Fitting estimator with 24 features.\n",
      "Fitting estimator with 23 features.\n",
      "Fitting estimator with 22 features.\n",
      "Fitting estimator with 21 features.\n",
      "Fitting estimator with 20 features.\n",
      "Fitting estimator with 19 features.\n",
      "Fitting estimator with 18 features.\n",
      "Fitting estimator with 17 features.\n",
      "Fitting estimator with 16 features.\n",
      "Fitting estimator with 15 features.\n",
      "Fitting estimator with 14 features.\n",
      "Fitting estimator with 13 features.\n",
      "Fitting estimator with 12 features.\n",
      "Fitting estimator with 11 features.\n",
      "Fitting estimator with 10 features.\n",
      "Fitting estimator with 9 features.\n",
      "Fitting estimator with 8 features.\n",
      "Fitting estimator with 7 features.\n",
      "Fitting estimator with 6 features.\n",
      "Fitting estimator with 5 features.\n",
      "Fitting estimator with 4 features.\n",
      "Fitting estimator with 3 features.\n",
      "Fitting estimator with 2 features.\n",
      "Fitting estimator with 65 features.\n",
      "Fitting estimator with 64 features.\n",
      "Fitting estimator with 63 features.\n",
      "Fitting estimator with 62 features.\n",
      "Fitting estimator with 61 features.\n",
      "Fitting estimator with 60 features.\n",
      "Fitting estimator with 59 features.\n",
      "Fitting estimator with 58 features.\n",
      "Fitting estimator with 57 features.\n",
      "Fitting estimator with 56 features.\n",
      "Fitting estimator with 55 features.\n",
      "Fitting estimator with 54 features.\n",
      "Fitting estimator with 53 features.\n",
      "Fitting estimator with 52 features.\n",
      "Fitting estimator with 51 features.\n",
      "Fitting estimator with 50 features.\n",
      "Fitting estimator with 49 features.\n",
      "Fitting estimator with 48 features.\n",
      "Fitting estimator with 47 features.\n",
      "Fitting estimator with 46 features.\n",
      "Fitting estimator with 45 features.\n",
      "Fitting estimator with 44 features.\n",
      "Fitting estimator with 43 features.\n",
      "Fitting estimator with 42 features.\n",
      "Fitting estimator with 41 features.\n",
      "Fitting estimator with 40 features.\n",
      "Fitting estimator with 39 features.\n",
      "Fitting estimator with 38 features.\n",
      "Fitting estimator with 37 features.\n",
      "Fitting estimator with 36 features.\n",
      "Fitting estimator with 35 features.\n",
      "Fitting estimator with 34 features.\n",
      "Fitting estimator with 33 features.\n",
      "Fitting estimator with 32 features.\n",
      "Fitting estimator with 31 features.\n",
      "Fitting estimator with 30 features.\n",
      "Fitting estimator with 29 features.\n",
      "Fitting estimator with 28 features.\n",
      "Fitting estimator with 27 features.\n",
      "Fitting estimator with 26 features.\n",
      "Fitting estimator with 25 features.\n",
      "Fitting estimator with 24 features.\n",
      "Fitting estimator with 23 features.\n",
      "Fitting estimator with 22 features.\n",
      "Fitting estimator with 21 features.\n",
      "Fitting estimator with 20 features.\n",
      "Fitting estimator with 19 features.\n",
      "Fitting estimator with 18 features.\n",
      "Fitting estimator with 17 features.\n",
      "Fitting estimator with 16 features.\n",
      "Fitting estimator with 15 features.\n",
      "Fitting estimator with 14 features.\n",
      "Fitting estimator with 13 features.\n",
      "Fitting estimator with 12 features.\n",
      "Fitting estimator with 11 features.\n",
      "Fitting estimator with 10 features.\n",
      "Fitting estimator with 9 features.\n",
      "Fitting estimator with 8 features.\n",
      "Fitting estimator with 7 features.\n",
      "Fitting estimator with 6 features.\n",
      "Fitting estimator with 5 features.\n",
      "Fitting estimator with 4 features.\n",
      "Fitting estimator with 3 features.\n",
      "Fitting estimator with 2 features.\n",
      "Fitting estimator with 65 features.\n",
      "Fitting estimator with 64 features.\n",
      "Fitting estimator with 63 features.\n",
      "Fitting estimator with 62 features.\n",
      "Fitting estimator with 61 features.\n",
      "Fitting estimator with 60 features.\n",
      "Fitting estimator with 59 features.\n",
      "Fitting estimator with 58 features.\n",
      "Fitting estimator with 57 features.\n",
      "Fitting estimator with 56 features.\n",
      "Fitting estimator with 55 features.\n",
      "Fitting estimator with 54 features.\n",
      "Fitting estimator with 53 features.\n",
      "Fitting estimator with 52 features.\n",
      "Fitting estimator with 51 features.\n",
      "Fitting estimator with 50 features.\n",
      "Fitting estimator with 49 features.\n",
      "Fitting estimator with 48 features.\n",
      "Fitting estimator with 47 features.\n",
      "Fitting estimator with 46 features.\n",
      "Fitting estimator with 45 features.\n",
      "Fitting estimator with 44 features.\n",
      "Fitting estimator with 43 features.\n",
      "Fitting estimator with 42 features.\n",
      "Fitting estimator with 41 features.\n",
      "Fitting estimator with 40 features.\n",
      "Fitting estimator with 39 features.\n",
      "Fitting estimator with 38 features.\n",
      "Fitting estimator with 37 features.\n",
      "Fitting estimator with 36 features.\n",
      "Fitting estimator with 35 features.\n",
      "Fitting estimator with 34 features.\n",
      "Fitting estimator with 33 features.\n",
      "Fitting estimator with 32 features.\n",
      "Fitting estimator with 31 features.\n",
      "Fitting estimator with 30 features.\n",
      "Fitting estimator with 29 features.\n",
      "Fitting estimator with 28 features.\n",
      "Fitting estimator with 27 features.\n",
      "Fitting estimator with 26 features.\n",
      "Fitting estimator with 25 features.\n",
      "Fitting estimator with 24 features.\n",
      "Fitting estimator with 23 features.\n",
      "Fitting estimator with 22 features.\n",
      "Fitting estimator with 21 features.\n",
      "Fitting estimator with 20 features.\n",
      "Fitting estimator with 19 features.\n",
      "Fitting estimator with 18 features.\n",
      "Fitting estimator with 17 features.\n",
      "Fitting estimator with 16 features.\n",
      "Fitting estimator with 15 features.\n",
      "Fitting estimator with 14 features.\n",
      "Fitting estimator with 13 features.\n",
      "Fitting estimator with 12 features.\n",
      "Fitting estimator with 11 features.\n",
      "Fitting estimator with 10 features.\n",
      "Fitting estimator with 9 features.\n",
      "Fitting estimator with 8 features.\n",
      "Fitting estimator with 7 features.\n",
      "Fitting estimator with 6 features.\n",
      "Fitting estimator with 5 features.\n",
      "Fitting estimator with 4 features.\n",
      "Fitting estimator with 3 features.\n",
      "Fitting estimator with 2 features.\n",
      "Fitting estimator with 65 features.\n",
      "Fitting estimator with 64 features.\n",
      "Fitting estimator with 63 features.\n",
      "Fitting estimator with 62 features.\n",
      "Fitting estimator with 61 features.\n",
      "Fitting estimator with 60 features.\n",
      "Fitting estimator with 59 features.\n",
      "Fitting estimator with 58 features.\n",
      "Fitting estimator with 57 features.\n"
     ]
    },
    {
     "data": {
      "text/plain": [
       "RFECV(cv=5,\n",
       "      estimator=XGBClassifier(base_score=None, booster=None,\n",
       "                              colsample_bylevel=None, colsample_bynode=None,\n",
       "                              colsample_bytree=None, enable_categorical=False,\n",
       "                              eval_metric='merror', gamma=None, gpu_id=None,\n",
       "                              importance_type=None,\n",
       "                              interaction_constraints=None, learning_rate=None,\n",
       "                              max_delta_step=None, max_depth=None,\n",
       "                              min_child_weight=None, missing=nan,\n",
       "                              monotone_constraints=None, n_estimators=100,\n",
       "                              n_jobs=None, num_parallel_tree=None,\n",
       "                              predictor=None, random_state=None, reg_alpha=None,\n",
       "                              reg_lambda=None, scale_pos_weight=None,\n",
       "                              subsample=None, tree_method=None,\n",
       "                              validate_parameters=None, verbosity=None),\n",
       "      scoring='accuracy', verbose=1)"
      ]
     },
     "execution_count": 16,
     "metadata": {},
     "output_type": "execute_result"
    }
   ],
   "source": [
    "estimator = XGBClassifier(eval_metric='merror')\n",
    "rfecv = RFECV(estimator, step=1, cv=5,scoring='accuracy',verbose=1)\n",
    "rfecv.fit(X_train, y_train)"
   ]
  },
  {
   "cell_type": "code",
   "execution_count": 17,
   "id": "c7b5b6c3",
   "metadata": {
    "execution": {
     "iopub.execute_input": "2022-01-16T11:10:37.459139Z",
     "iopub.status.busy": "2022-01-16T11:10:37.458231Z",
     "iopub.status.idle": "2022-01-16T11:10:37.464530Z",
     "shell.execute_reply": "2022-01-16T11:10:37.465078Z",
     "shell.execute_reply.started": "2022-01-16T09:41:15.632340Z"
    },
    "papermill": {
     "duration": 0.34328,
     "end_time": "2022-01-16T11:10:37.465241",
     "exception": false,
     "start_time": "2022-01-16T11:10:37.121961",
     "status": "completed"
    },
    "tags": []
   },
   "outputs": [
    {
     "data": {
      "text/plain": [
       "Index(['mfcc6_mean', 'mfcc9_var', 'mfcc11_var', 'mfcc14_var', 'mfcc16_mean',\n",
       "       'mfcc16_var', 'mfcc17_var', 'mfcc19_mean', 'chroma_cens_var'],\n",
       "      dtype='object')"
      ]
     },
     "execution_count": 17,
     "metadata": {},
     "output_type": "execute_result"
    }
   ],
   "source": [
    "# See which features can be eliminated\n",
    "features_drop_array = list(np.where(rfecv.support_ == False)[0])\n",
    "X_train.columns[features_drop_array]"
   ]
  },
  {
   "cell_type": "code",
   "execution_count": 18,
   "id": "0a479463",
   "metadata": {
    "execution": {
     "iopub.execute_input": "2022-01-16T11:10:38.139634Z",
     "iopub.status.busy": "2022-01-16T11:10:38.139034Z",
     "iopub.status.idle": "2022-01-16T11:10:38.144954Z",
     "shell.execute_reply": "2022-01-16T11:10:38.145429Z",
     "shell.execute_reply.started": "2022-01-16T09:41:45.256309Z"
    },
    "papermill": {
     "duration": 0.348023,
     "end_time": "2022-01-16T11:10:38.145603",
     "exception": false,
     "start_time": "2022-01-16T11:10:37.797580",
     "status": "completed"
    },
    "tags": []
   },
   "outputs": [],
   "source": [
    "X_train.drop(X_train.columns[features_drop_array], axis=1, inplace=True)\n",
    "X_test.drop(X_test.columns[features_drop_array], axis=1, inplace=True)"
   ]
  },
  {
   "cell_type": "markdown",
   "id": "585c055d",
   "metadata": {
    "papermill": {
     "duration": 0.331434,
     "end_time": "2022-01-16T11:10:38.811466",
     "exception": false,
     "start_time": "2022-01-16T11:10:38.480032",
     "status": "completed"
    },
    "tags": []
   },
   "source": [
    "# Model training\n",
    "\n",
    "We will just use XGBoost Classifier to classify"
   ]
  },
  {
   "cell_type": "code",
   "execution_count": 19,
   "id": "826ce51d",
   "metadata": {
    "execution": {
     "iopub.execute_input": "2022-01-16T11:10:39.479680Z",
     "iopub.status.busy": "2022-01-16T11:10:39.479113Z",
     "iopub.status.idle": "2022-01-16T11:10:48.302242Z",
     "shell.execute_reply": "2022-01-16T11:10:48.302657Z",
     "shell.execute_reply.started": "2022-01-16T09:41:47.145901Z"
    },
    "papermill": {
     "duration": 9.159592,
     "end_time": "2022-01-16T11:10:48.302827",
     "exception": false,
     "start_time": "2022-01-16T11:10:39.143235",
     "status": "completed"
    },
    "tags": []
   },
   "outputs": [
    {
     "data": {
      "text/plain": [
       "XGBClassifier(base_score=0.5, booster='gbtree', colsample_bylevel=1,\n",
       "              colsample_bynode=1, colsample_bytree=1, enable_categorical=False,\n",
       "              gamma=0, gpu_id=-1, importance_type=None,\n",
       "              interaction_constraints='', learning_rate=0.300000012,\n",
       "              max_delta_step=0, max_depth=6, min_child_weight=1, missing=nan,\n",
       "              monotone_constraints='()', n_estimators=1000, n_jobs=4,\n",
       "              num_parallel_tree=1, objective='multi:softprob', predictor='auto',\n",
       "              random_state=0, reg_alpha=0, reg_lambda=1, scale_pos_weight=None,\n",
       "              subsample=1, tree_method='exact', validate_parameters=1,\n",
       "              verbosity=None)"
      ]
     },
     "execution_count": 19,
     "metadata": {},
     "output_type": "execute_result"
    }
   ],
   "source": [
    "model = XGBClassifier(n_estimators=1000)\n",
    "model.fit(X_train,y_train,eval_metric='merror')"
   ]
  },
  {
   "cell_type": "code",
   "execution_count": 20,
   "id": "ea16b132",
   "metadata": {
    "execution": {
     "iopub.execute_input": "2022-01-16T11:10:48.978581Z",
     "iopub.status.busy": "2022-01-16T11:10:48.977591Z",
     "iopub.status.idle": "2022-01-16T11:10:49.050949Z",
     "shell.execute_reply": "2022-01-16T11:10:49.050464Z",
     "shell.execute_reply.started": "2022-01-16T09:41:56.052809Z"
    },
    "papermill": {
     "duration": 0.413101,
     "end_time": "2022-01-16T11:10:49.051093",
     "exception": false,
     "start_time": "2022-01-16T11:10:48.637992",
     "status": "completed"
    },
    "tags": []
   },
   "outputs": [
    {
     "name": "stdout",
     "output_type": "stream",
     "text": [
      "Training accuracy: 0.9988888888888889\n",
      "Training:\n",
      "               precision    recall  f1-score   support\n",
      "\n",
      "       blues       1.00      1.00      1.00        90\n",
      "   classical       1.00      1.00      1.00        90\n",
      "     country       1.00      1.00      1.00        90\n",
      "       disco       1.00      1.00      1.00        90\n",
      "      hiphop       1.00      1.00      1.00        90\n",
      "        jazz       1.00      1.00      1.00        90\n",
      "       metal       0.99      1.00      0.99        90\n",
      "         pop       1.00      1.00      1.00        90\n",
      "      reggae       1.00      1.00      1.00        90\n",
      "        rock       1.00      0.99      0.99        90\n",
      "\n",
      "    accuracy                           1.00       900\n",
      "   macro avg       1.00      1.00      1.00       900\n",
      "weighted avg       1.00      1.00      1.00       900\n",
      "\n",
      "Testing accuracy: 0.78\n",
      "Testing:\n",
      "               precision    recall  f1-score   support\n",
      "\n",
      "       blues       0.75      0.90      0.82        10\n",
      "   classical       0.90      0.90      0.90        10\n",
      "     country       0.71      0.50      0.59        10\n",
      "       disco       0.67      0.80      0.73        10\n",
      "      hiphop       1.00      0.90      0.95        10\n",
      "        jazz       0.82      0.90      0.86        10\n",
      "       metal       0.90      0.90      0.90        10\n",
      "         pop       0.89      0.80      0.84        10\n",
      "      reggae       0.80      0.80      0.80        10\n",
      "        rock       0.40      0.40      0.40        10\n",
      "\n",
      "    accuracy                           0.78       100\n",
      "   macro avg       0.78      0.78      0.78       100\n",
      "weighted avg       0.78      0.78      0.78       100\n",
      "\n"
     ]
    }
   ],
   "source": [
    "y_pred_train = model.predict(X_train)\n",
    "y_pred_test = model.predict(X_test)\n",
    "target_names = sorted(set(y))\n",
    "\n",
    "print(f'Training accuracy: {accuracy_score(y_train,y_pred_train)}')\n",
    "print(f'Training:\\n {classification_report(y_train, y_pred_train, labels=target_names)}')\n",
    "print(f'Testing accuracy: {accuracy_score(y_test,y_pred_test)}')\n",
    "print(f'Testing:\\n {classification_report(y_test, y_pred_test, labels=target_names)}')"
   ]
  },
  {
   "cell_type": "code",
   "execution_count": 21,
   "id": "5b7c269f",
   "metadata": {
    "execution": {
     "iopub.execute_input": "2022-01-16T11:10:49.732536Z",
     "iopub.status.busy": "2022-01-16T11:10:49.728435Z",
     "iopub.status.idle": "2022-01-16T11:10:50.419995Z",
     "shell.execute_reply": "2022-01-16T11:10:50.420599Z",
     "shell.execute_reply.started": "2022-01-16T09:41:56.146222Z"
    },
    "papermill": {
     "duration": 1.033223,
     "end_time": "2022-01-16T11:10:50.420765",
     "exception": false,
     "start_time": "2022-01-16T11:10:49.387542",
     "status": "completed"
    },
    "tags": []
   },
   "outputs": [
    {
     "data": {
      "text/plain": [
       "<AxesSubplot:>"
      ]
     },
     "execution_count": 21,
     "metadata": {},
     "output_type": "execute_result"
    },
    {
     "data": {
      "image/png": "[encoded data removed]",
      "text/plain": [
       "<Figure size 1152x648 with 2 Axes>"
      ]
     },
     "metadata": {
      "needs_background": "light"
     },
     "output_type": "display_data"
    }
   ],
   "source": [
    "#Confusion matrix of the test data\n",
    "cm = confusion_matrix(y_test, y_pred_test)\n",
    "plt.figure(figsize = (16, 9))\n",
    "sns.heatmap(cm,cmap=\"Blues\", annot=True, xticklabels = target_names, yticklabels = target_names )"
   ]
  },
  {
   "cell_type": "markdown",
   "id": "9ba44387",
   "metadata": {
    "papermill": {
     "duration": 0.389193,
     "end_time": "2022-01-16T11:10:51.144223",
     "exception": false,
     "start_time": "2022-01-16T11:10:50.755030",
     "status": "completed"
    },
    "tags": []
   },
   "source": [
    "We may see that we have got 99% of accuracy for training data, but just 78% for the testing data. Obviously, we are overfitting our model. In the following, we will add regularization parameters and tune other parameters to reduce this problem."
   ]
  },
  {
   "cell_type": "markdown",
   "id": "4aa98741",
   "metadata": {
    "papermill": {
     "duration": 0.332971,
     "end_time": "2022-01-16T11:10:51.813036",
     "exception": false,
     "start_time": "2022-01-16T11:10:51.480065",
     "status": "completed"
    },
    "tags": []
   },
   "source": [
    "# Hyperparameter tuning\n",
    "In the following, we'll use `hyperopt` library to help tuning the parameters. The parameters may vary for each run"
   ]
  },
  {
   "cell_type": "code",
   "execution_count": 22,
   "id": "44a77563",
   "metadata": {
    "execution": {
     "iopub.execute_input": "2022-01-16T11:10:52.526602Z",
     "iopub.status.busy": "2022-01-16T11:10:52.525983Z",
     "iopub.status.idle": "2022-01-16T11:24:26.117919Z",
     "shell.execute_reply": "2022-01-16T11:24:26.117377Z",
     "shell.execute_reply.started": "2022-01-16T10:19:51.860303Z"
    },
    "papermill": {
     "duration": 813.935342,
     "end_time": "2022-01-16T11:24:26.118083",
     "exception": false,
     "start_time": "2022-01-16T11:10:52.182741",
     "status": "completed"
    },
    "tags": []
   },
   "outputs": [
    {
     "name": "stdout",
     "output_type": "stream",
     "text": [
      "100%|██████████| 100/100 [13:33<00:00,  8.14s/trial, best loss: -0.83]\n"
     ]
    }
   ],
   "source": [
    "space={\n",
    "    'n_estimators': hp.quniform('n_estimators', 0,3000,1),\n",
    "    'reg_lambda' : hp.quniform('reg_lambda', 0,500,1),\n",
    "    }\n",
    "\n",
    "def objective(space):\n",
    "    clf=XGBClassifier(\n",
    "                    n_estimators =int(space['n_estimators']),\n",
    "                    reg_lambda = int(space['reg_lambda']),\n",
    "                    )\n",
    "    \n",
    "    evaluation = [( X_train, y_train), ( X_test, y_test)]\n",
    "    \n",
    "    clf.fit(X_train, y_train,\n",
    "            eval_set=evaluation, eval_metric=\"auc\",\n",
    "            early_stopping_rounds=10,verbose=False)\n",
    "    \n",
    "\n",
    "    pred = clf.predict(X_test)\n",
    "    accuracy = accuracy_score(y_test, pred)\n",
    "    return {'loss': -accuracy, 'status': STATUS_OK }\n",
    "\n",
    "\n",
    "trials = Trials()\n",
    "best_hyperparams = fmin(fn = objective,\n",
    "                        space = space,\n",
    "                        algo = tpe.suggest,\n",
    "                        max_evals = 100,\n",
    "                        trials = trials)"
   ]
  },
  {
   "cell_type": "code",
   "execution_count": 23,
   "id": "65ba9880",
   "metadata": {
    "execution": {
     "iopub.execute_input": "2022-01-16T11:24:26.836339Z",
     "iopub.status.busy": "2022-01-16T11:24:26.835642Z",
     "iopub.status.idle": "2022-01-16T11:24:26.838418Z",
     "shell.execute_reply": "2022-01-16T11:24:26.837838Z",
     "shell.execute_reply.started": "2022-01-16T10:33:24.020731Z"
    },
    "papermill": {
     "duration": 0.363493,
     "end_time": "2022-01-16T11:24:26.838554",
     "exception": false,
     "start_time": "2022-01-16T11:24:26.475061",
     "status": "completed"
    },
    "tags": []
   },
   "outputs": [
    {
     "name": "stdout",
     "output_type": "stream",
     "text": [
      "best params: {'n_estimators': 1639.0, 'reg_lambda': 12.0}\n"
     ]
    }
   ],
   "source": [
    "print(f\"best params: {best_hyperparams}\")"
   ]
  },
  {
   "cell_type": "code",
   "execution_count": 24,
   "id": "497430dd",
   "metadata": {
    "execution": {
     "iopub.execute_input": "2022-01-16T11:24:27.562797Z",
     "iopub.status.busy": "2022-01-16T11:24:27.562234Z",
     "iopub.status.idle": "2022-01-16T11:24:36.028425Z",
     "shell.execute_reply": "2022-01-16T11:24:36.028977Z",
     "shell.execute_reply.started": "2022-01-16T10:35:58.121849Z"
    },
    "papermill": {
     "duration": 8.829855,
     "end_time": "2022-01-16T11:24:36.029301",
     "exception": false,
     "start_time": "2022-01-16T11:24:27.199446",
     "status": "completed"
    },
    "tags": []
   },
   "outputs": [
    {
     "name": "stdout",
     "output_type": "stream",
     "text": [
      "accuracy: 0.81\n",
      "New tuned model:\n",
      "               precision    recall  f1-score   support\n",
      "\n",
      "       blues       0.83      1.00      0.91        10\n",
      "   classical       0.90      0.90      0.90        10\n",
      "     country       0.71      0.50      0.59        10\n",
      "       disco       0.80      0.80      0.80        10\n",
      "      hiphop       1.00      0.80      0.89        10\n",
      "        jazz       0.82      0.90      0.86        10\n",
      "       metal       0.83      1.00      0.91        10\n",
      "         pop       0.89      0.80      0.84        10\n",
      "      reggae       0.80      0.80      0.80        10\n",
      "        rock       0.55      0.60      0.57        10\n",
      "\n",
      "    accuracy                           0.81       100\n",
      "   macro avg       0.81      0.81      0.81       100\n",
      "weighted avg       0.81      0.81      0.81       100\n",
      "\n"
     ]
    }
   ],
   "source": [
    "model1 = XGBClassifier(n_estimators=304, reg_lambda=25)\n",
    "model1.fit(X_train,y_train,eval_metric='merror')\n",
    "y_pred_test1 = model1.predict(X_test)\n",
    "print(f\"accuracy: {accuracy_score(y_test,y_pred_test1)}\")\n",
    "print(f'New tuned model:\\n {classification_report(y_test, y_pred_test1, labels=target_names)}')\n"
   ]
  },
  {
   "cell_type": "markdown",
   "id": "ab137287",
   "metadata": {
    "papermill": {
     "duration": 0.355208,
     "end_time": "2022-01-16T11:24:36.741710",
     "exception": false,
     "start_time": "2022-01-16T11:24:36.386502",
     "status": "completed"
    },
    "tags": []
   },
   "source": [
    "Our accuracy, precision and recall both improved a little bit from 78% to 81%. We will make this our final model"
   ]
  },
  {
   "cell_type": "markdown",
   "id": "c763832e",
   "metadata": {
    "papermill": {
     "duration": 0.356662,
     "end_time": "2022-01-16T11:24:37.486054",
     "exception": false,
     "start_time": "2022-01-16T11:24:37.129392",
     "status": "completed"
    },
    "tags": []
   },
   "source": [
    "# Save the model and the preprocessing"
   ]
  },
  {
   "cell_type": "code",
   "execution_count": 25,
   "id": "bd787a86",
   "metadata": {
    "execution": {
     "iopub.execute_input": "2022-01-16T11:24:38.206705Z",
     "iopub.status.busy": "2022-01-16T11:24:38.206141Z",
     "iopub.status.idle": "2022-01-16T11:24:38.385914Z",
     "shell.execute_reply": "2022-01-16T11:24:38.386359Z",
     "shell.execute_reply.started": "2022-01-16T10:36:31.492436Z"
    },
    "papermill": {
     "duration": 0.542713,
     "end_time": "2022-01-16T11:24:38.386536",
     "exception": false,
     "start_time": "2022-01-16T11:24:37.843823",
     "status": "completed"
    },
    "tags": []
   },
   "outputs": [],
   "source": [
    "pickle.dump(sc, open('sc.pkl','wb'))\n",
    "pickle.dump(model1, open('model.pkl', 'wb'))"
   ]
  }
 ],
 "metadata": {
  "kernelspec": {
   "display_name": "Python 3",
   "language": "python",
   "name": "python3"
  },
  "language_info": {
   "codemirror_mode": {
    "name": "ipython",
    "version": 3
   },
   "file_extension": ".py",
   "mimetype": "text/x-python",
   "name": "python",
   "nbconvert_exporter": "python",
   "pygments_lexer": "ipython3",
   "version": "3.7.12"
  },
  "papermill": {
   "default_parameters": {},
   "duration": 2838.920886,
   "end_time": "2022-01-16T11:24:39.757359",
   "environment_variables": {},
   "exception": null,
   "input_path": "__notebook__.ipynb",
   "output_path": "__notebook__.ipynb",
   "parameters": {},
   "start_time": "2022-01-16T10:37:20.836473",
   "version": "2.3.3"
  }
 },
 "nbformat": 4,
 "nbformat_minor": 5
}
